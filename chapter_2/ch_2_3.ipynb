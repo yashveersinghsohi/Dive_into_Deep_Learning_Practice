{
  "nbformat": 4,
  "nbformat_minor": 0,
  "metadata": {
    "colab": {
      "provenance": [],
      "authorship_tag": "ABX9TyPajckIJcs/mIec+wuObd2W",
      "include_colab_link": true
    },
    "kernelspec": {
      "name": "python3",
      "display_name": "Python 3"
    },
    "language_info": {
      "name": "python"
    }
  },
  "cells": [
    {
      "cell_type": "markdown",
      "metadata": {
        "id": "view-in-github",
        "colab_type": "text"
      },
      "source": [
        "<a href=\"https://colab.research.google.com/github/yashveersinghsohi/Dive_into_Deep_Learning_Practice/blob/chapter_2.3/chapter_2/ch_2_3.ipynb\" target=\"_parent\"><img src=\"https://colab.research.google.com/assets/colab-badge.svg\" alt=\"Open In Colab\"/></a>"
      ]
    },
    {
      "cell_type": "markdown",
      "source": [
        "[Book Link](https://d2l.ai/chapter_preliminaries/linear-algebra.html)"
      ],
      "metadata": {
        "id": "QLNlmkTuiiqV"
      }
    },
    {
      "cell_type": "markdown",
      "source": [
        "# Imports"
      ],
      "metadata": {
        "id": "rz7VpaN1imNB"
      }
    },
    {
      "cell_type": "code",
      "execution_count": 1,
      "metadata": {
        "id": "8_ERCQIyihAz"
      },
      "outputs": [],
      "source": [
        "import torch"
      ]
    },
    {
      "cell_type": "markdown",
      "source": [
        "# Scalars"
      ],
      "metadata": {
        "id": "WREH2-Nfi9HB"
      }
    },
    {
      "cell_type": "code",
      "source": [
        "x, y = torch.tensor(3.0), torch.tensor(2.0)\n",
        "x+y, x-y, x*y, x/y, x**y"
      ],
      "metadata": {
        "colab": {
          "base_uri": "https://localhost:8080/"
        },
        "id": "yN73vwXbiouB",
        "outputId": "1a35fd36-4f2b-4a6c-8737-91de1ba75d26"
      },
      "execution_count": 2,
      "outputs": [
        {
          "output_type": "execute_result",
          "data": {
            "text/plain": [
              "(tensor(5.), tensor(1.), tensor(6.), tensor(1.5000), tensor(9.))"
            ]
          },
          "metadata": {},
          "execution_count": 2
        }
      ]
    },
    {
      "cell_type": "markdown",
      "source": [
        "# Vectors"
      ],
      "metadata": {
        "id": "2LF2LMPEjHkv"
      }
    },
    {
      "cell_type": "code",
      "source": [
        "x = torch.arange(3)\n",
        "x, x[2], len(x), x.shape, x.shape[0]"
      ],
      "metadata": {
        "colab": {
          "base_uri": "https://localhost:8080/"
        },
        "id": "XxE_zxPzjEtu",
        "outputId": "643fa74c-4f04-491f-a72a-1328934fdbd9"
      },
      "execution_count": 7,
      "outputs": [
        {
          "output_type": "execute_result",
          "data": {
            "text/plain": [
              "(tensor([0, 1, 2]), tensor(2), 3, torch.Size([3]), 3)"
            ]
          },
          "metadata": {},
          "execution_count": 7
        }
      ]
    },
    {
      "cell_type": "markdown",
      "source": [
        "# Matrices"
      ],
      "metadata": {
        "id": "tUgPTLuUjvYJ"
      }
    },
    {
      "cell_type": "code",
      "source": [
        "A = torch.arange(6).reshape(3, 2)\n",
        "A, A.T"
      ],
      "metadata": {
        "colab": {
          "base_uri": "https://localhost:8080/"
        },
        "id": "HwxISvAYjjAL",
        "outputId": "fb751294-1172-472d-e1fc-72b9348e61d9"
      },
      "execution_count": 9,
      "outputs": [
        {
          "output_type": "execute_result",
          "data": {
            "text/plain": [
              "(tensor([[0, 1],\n",
              "         [2, 3],\n",
              "         [4, 5]]),\n",
              " tensor([[0, 2, 4],\n",
              "         [1, 3, 5]]))"
            ]
          },
          "metadata": {},
          "execution_count": 9
        }
      ]
    },
    {
      "cell_type": "code",
      "source": [
        "A = torch.tensor([[1, 2, 3], [2, 0, 4], [3, 4, 5]])\n",
        "A, A.T, A==A.T"
      ],
      "metadata": {
        "colab": {
          "base_uri": "https://localhost:8080/"
        },
        "id": "Lnn_ctYQj98U",
        "outputId": "755ee02d-05c6-4100-b5bf-796d367c8056"
      },
      "execution_count": 12,
      "outputs": [
        {
          "output_type": "execute_result",
          "data": {
            "text/plain": [
              "(tensor([[1, 2, 3],\n",
              "         [2, 0, 4],\n",
              "         [3, 4, 5]]),\n",
              " tensor([[1, 2, 3],\n",
              "         [2, 0, 4],\n",
              "         [3, 4, 5]]),\n",
              " tensor([[True, True, True],\n",
              "         [True, True, True],\n",
              "         [True, True, True]]))"
            ]
          },
          "metadata": {},
          "execution_count": 12
        }
      ]
    },
    {
      "cell_type": "markdown",
      "source": [
        "# Tensors"
      ],
      "metadata": {
        "id": "5U7wiNxbkQqx"
      }
    },
    {
      "cell_type": "code",
      "source": [
        "torch.arange(24).reshape(2, 3, 4)"
      ],
      "metadata": {
        "colab": {
          "base_uri": "https://localhost:8080/"
        },
        "id": "HBRYdLsckQaT",
        "outputId": "acd6c016-d0fe-4989-f5e2-839d84652659"
      },
      "execution_count": 13,
      "outputs": [
        {
          "output_type": "execute_result",
          "data": {
            "text/plain": [
              "tensor([[[ 0,  1,  2,  3],\n",
              "         [ 4,  5,  6,  7],\n",
              "         [ 8,  9, 10, 11]],\n",
              "\n",
              "        [[12, 13, 14, 15],\n",
              "         [16, 17, 18, 19],\n",
              "         [20, 21, 22, 23]]])"
            ]
          },
          "metadata": {},
          "execution_count": 13
        }
      ]
    },
    {
      "cell_type": "markdown",
      "source": [
        "# Tensor Arithmetic"
      ],
      "metadata": {
        "id": "zTGhMh-jkj5m"
      }
    },
    {
      "cell_type": "code",
      "source": [
        "A = torch.arange(6, dtype=torch.float32).reshape(2, 3)\n",
        "B = A.clone()\n",
        "a = 2\n",
        "A, A+B, A*B, A+a"
      ],
      "metadata": {
        "colab": {
          "base_uri": "https://localhost:8080/"
        },
        "id": "_XhhingEkim8",
        "outputId": "641c9660-6a19-475c-9376-265cbbb3fb7d"
      },
      "execution_count": 16,
      "outputs": [
        {
          "output_type": "execute_result",
          "data": {
            "text/plain": [
              "(tensor([[0., 1., 2.],\n",
              "         [3., 4., 5.]]),\n",
              " tensor([[ 0.,  2.,  4.],\n",
              "         [ 6.,  8., 10.]]),\n",
              " tensor([[ 0.,  1.,  4.],\n",
              "         [ 9., 16., 25.]]),\n",
              " tensor([[2., 3., 4.],\n",
              "         [5., 6., 7.]]))"
            ]
          },
          "metadata": {},
          "execution_count": 16
        }
      ]
    },
    {
      "cell_type": "markdown",
      "source": [
        "# Reduction"
      ],
      "metadata": {
        "id": "kgT-6aPGmH2P"
      }
    },
    {
      "cell_type": "code",
      "source": [
        "x = torch.arange(3, dtype=torch.float32)\n",
        "x, x.sum()"
      ],
      "metadata": {
        "colab": {
          "base_uri": "https://localhost:8080/"
        },
        "id": "VnOv2fMTl7lA",
        "outputId": "35453af1-d0ed-4a20-ccd6-e03f8f6571cb"
      },
      "execution_count": 17,
      "outputs": [
        {
          "output_type": "execute_result",
          "data": {
            "text/plain": [
              "(tensor([0., 1., 2.]), tensor(3.))"
            ]
          },
          "metadata": {},
          "execution_count": 17
        }
      ]
    },
    {
      "cell_type": "code",
      "source": [
        "(A, A.sum(), A.sum(axis=0), A.sum(axis=1), \n",
        " A.sum(axis=0, keepdim=True), A.sum(axis=1, keepdim=True), \n",
        " A/A.sum(axis=1, keepdim=True))"
      ],
      "metadata": {
        "colab": {
          "base_uri": "https://localhost:8080/"
        },
        "id": "Qv4aplcVmQFA",
        "outputId": "8723d81b-6e2f-4a73-c4c5-096029ee23c6"
      },
      "execution_count": 23,
      "outputs": [
        {
          "output_type": "execute_result",
          "data": {
            "text/plain": [
              "(tensor([[0., 1., 2.],\n",
              "         [3., 4., 5.]]),\n",
              " tensor(15.),\n",
              " tensor([3., 5., 7.]),\n",
              " tensor([ 3., 12.]),\n",
              " tensor([[3., 5., 7.]]),\n",
              " tensor([[ 3.],\n",
              "         [12.]]),\n",
              " tensor([[0.0000, 0.3333, 0.6667],\n",
              "         [0.2500, 0.3333, 0.4167]]))"
            ]
          },
          "metadata": {},
          "execution_count": 23
        }
      ]
    },
    {
      "cell_type": "code",
      "source": [
        "A, A.mean(), A.mean(axis=0), A.mean(axis=1)"
      ],
      "metadata": {
        "colab": {
          "base_uri": "https://localhost:8080/"
        },
        "id": "3xdF82S5mSkc",
        "outputId": "e0ac98a9-9c82-44eb-ef80-1d408931c218"
      },
      "execution_count": 21,
      "outputs": [
        {
          "output_type": "execute_result",
          "data": {
            "text/plain": [
              "(tensor([[0., 1., 2.],\n",
              "         [3., 4., 5.]]),\n",
              " tensor(2.5000),\n",
              " tensor([1.5000, 2.5000, 3.5000]),\n",
              " tensor([1., 4.]))"
            ]
          },
          "metadata": {},
          "execution_count": 21
        }
      ]
    },
    {
      "cell_type": "code",
      "source": [
        "A, A.cumsum(axis=0), A.cumsum(axis=1)"
      ],
      "metadata": {
        "colab": {
          "base_uri": "https://localhost:8080/"
        },
        "id": "_4_-RhECokjg",
        "outputId": "536d5685-8d70-4829-d678-a9df9f948940"
      },
      "execution_count": 27,
      "outputs": [
        {
          "output_type": "execute_result",
          "data": {
            "text/plain": [
              "(tensor([[0., 1., 2.],\n",
              "         [3., 4., 5.]]),\n",
              " tensor([[0., 1., 2.],\n",
              "         [3., 5., 7.]]),\n",
              " tensor([[ 0.,  1.,  3.],\n",
              "         [ 3.,  7., 12.]]))"
            ]
          },
          "metadata": {},
          "execution_count": 27
        }
      ]
    },
    {
      "cell_type": "markdown",
      "source": [
        "# Dot Products"
      ],
      "metadata": {
        "id": "kaGdo5KFpt2f"
      }
    },
    {
      "cell_type": "code",
      "source": [
        "y = torch.ones(3, dtype=torch.float32)\n",
        "x, y, torch.dot(x, y), torch.sum(x*y)"
      ],
      "metadata": {
        "colab": {
          "base_uri": "https://localhost:8080/"
        },
        "id": "1nazIcffpgPv",
        "outputId": "7669c841-7fa9-457b-d53f-758962732cb8"
      },
      "execution_count": 30,
      "outputs": [
        {
          "output_type": "execute_result",
          "data": {
            "text/plain": [
              "(tensor([0., 1., 2.]), tensor([1., 1., 1.]), tensor(3.), tensor(3.))"
            ]
          },
          "metadata": {},
          "execution_count": 30
        }
      ]
    },
    {
      "cell_type": "markdown",
      "source": [
        "# Matrix Vector Products"
      ],
      "metadata": {
        "id": "6Z8lZEJXqERM"
      }
    },
    {
      "cell_type": "code",
      "source": [
        "A, A.shape, x, x.shape, torch.mv(A, x), A@x"
      ],
      "metadata": {
        "colab": {
          "base_uri": "https://localhost:8080/"
        },
        "id": "u3WgHqnTp0Uh",
        "outputId": "78e65a10-82e0-4a82-8e0b-4921158e7a54"
      },
      "execution_count": 31,
      "outputs": [
        {
          "output_type": "execute_result",
          "data": {
            "text/plain": [
              "(tensor([[0., 1., 2.],\n",
              "         [3., 4., 5.]]),\n",
              " torch.Size([2, 3]),\n",
              " tensor([0., 1., 2.]),\n",
              " torch.Size([3]),\n",
              " tensor([ 5., 14.]),\n",
              " tensor([ 5., 14.]))"
            ]
          },
          "metadata": {},
          "execution_count": 31
        }
      ]
    },
    {
      "cell_type": "markdown",
      "source": [
        "# Matrix-Matrix Multiplication"
      ],
      "metadata": {
        "id": "4ShuHCMbqgS4"
      }
    },
    {
      "cell_type": "code",
      "source": [
        "B = torch.ones(3, 4)\n",
        "A, B, torch.mm(A, B), A@B"
      ],
      "metadata": {
        "colab": {
          "base_uri": "https://localhost:8080/"
        },
        "id": "cNm1ZXw0qeSz",
        "outputId": "974c517d-2a75-4067-87af-dbfc8538bf64"
      },
      "execution_count": 33,
      "outputs": [
        {
          "output_type": "execute_result",
          "data": {
            "text/plain": [
              "(tensor([[0., 1., 2.],\n",
              "         [3., 4., 5.]]),\n",
              " tensor([[1., 1., 1., 1.],\n",
              "         [1., 1., 1., 1.],\n",
              "         [1., 1., 1., 1.]]),\n",
              " tensor([[ 3.,  3.,  3.,  3.],\n",
              "         [12., 12., 12., 12.]]),\n",
              " tensor([[ 3.,  3.,  3.,  3.],\n",
              "         [12., 12., 12., 12.]]))"
            ]
          },
          "metadata": {},
          "execution_count": 33
        }
      ]
    },
    {
      "cell_type": "markdown",
      "source": [
        "# Norm"
      ],
      "metadata": {
        "id": "hnLLySqstNWk"
      }
    },
    {
      "cell_type": "code",
      "source": [
        "u = torch.tensor([3.0, -4.0])\n",
        "torch.norm(u), torch.norm(u, p=1), torch.abs(u).sum()"
      ],
      "metadata": {
        "colab": {
          "base_uri": "https://localhost:8080/"
        },
        "id": "HBOKIlmCsj9C",
        "outputId": "99416bc0-5bf4-4302-e06b-4396a8b843df"
      },
      "execution_count": 36,
      "outputs": [
        {
          "output_type": "execute_result",
          "data": {
            "text/plain": [
              "(tensor(5.), tensor(7.), tensor(7.))"
            ]
          },
          "metadata": {},
          "execution_count": 36
        }
      ]
    },
    {
      "cell_type": "code",
      "source": [],
      "metadata": {
        "id": "344GWP0PtTkS"
      },
      "execution_count": null,
      "outputs": []
    }
  ]
}