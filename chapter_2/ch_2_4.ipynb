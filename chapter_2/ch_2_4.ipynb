{
  "nbformat": 4,
  "nbformat_minor": 0,
  "metadata": {
    "colab": {
      "provenance": [],
      "authorship_tag": "ABX9TyNZRo1Qtmv2Ar6KCWDrlKm2",
      "include_colab_link": true
    },
    "kernelspec": {
      "name": "python3",
      "display_name": "Python 3"
    },
    "language_info": {
      "name": "python"
    }
  },
  "cells": [
    {
      "cell_type": "markdown",
      "metadata": {
        "id": "view-in-github",
        "colab_type": "text"
      },
      "source": [
        "<a href=\"https://colab.research.google.com/github/yashveersinghsohi/Dive_into_Deep_Learning_Practice/blob/chapter_2.4/chapter_2/ch_2_4.ipynb\" target=\"_parent\"><img src=\"https://colab.research.google.com/assets/colab-badge.svg\" alt=\"Open In Colab\"/></a>"
      ]
    },
    {
      "cell_type": "markdown",
      "source": [
        "[Book Link](https://d2l.ai/chapter_preliminaries/calculus.html)"
      ],
      "metadata": {
        "id": "GSZGIZGNwAvu"
      }
    },
    {
      "cell_type": "markdown",
      "source": [
        "# Imports"
      ],
      "metadata": {
        "id": "my86zfPmwDpc"
      }
    },
    {
      "cell_type": "code",
      "source": [
        "# !pip install d2l"
      ],
      "metadata": {
        "id": "liXbd5sywqiq"
      },
      "execution_count": 1,
      "outputs": []
    },
    {
      "cell_type": "code",
      "execution_count": 4,
      "metadata": {
        "id": "iDZDzErDv9aS"
      },
      "outputs": [],
      "source": [
        "import numpy as np\n",
        "from matplotlib_inline import backend_inline\n",
        "# from d2l import torch as d2l\n",
        "# import collections\n",
        "# import hashlib\n",
        "# import inspect\n",
        "# import math\n",
        "# import os\n",
        "# import random\n",
        "# import re\n",
        "# import shutil\n",
        "# import sys\n",
        "# import tarfile\n",
        "# import time\n",
        "# import zipfile\n",
        "# from collections import defaultdict\n",
        "# import gym\n",
        "# import pandas as pd\n",
        "# import requests\n",
        "# from IPython import display\n",
        "# from matplotlib import pyplot as plt\n",
        "# from matplotlib_inline import backend_inline\n",
        "# from scipy.spatial import distance_matrix"
      ]
    },
    {
      "cell_type": "markdown",
      "source": [
        "# Calculating a derivative using limits manually"
      ],
      "metadata": {
        "id": "Ga_xV4QuxwhZ"
      }
    },
    {
      "cell_type": "code",
      "source": [
        "def f(x):\n",
        "  return 3*(x**2) - (4*x)\n",
        "for h in 10.0**np.arange(-1, -6, -1):\n",
        "  print(f'h = {h:.5f}, numerical limit = {((f(1+h)-f(1))/h):.5f}')"
      ],
      "metadata": {
        "colab": {
          "base_uri": "https://localhost:8080/"
        },
        "id": "OfEos56Zwv6F",
        "outputId": "97a821dd-2166-4518-f2bd-d58d95092f79"
      },
      "execution_count": 5,
      "outputs": [
        {
          "output_type": "stream",
          "name": "stdout",
          "text": [
            "h = 0.10000, numerical limit = 2.30000\n",
            "h = 0.01000, numerical limit = 2.03000\n",
            "h = 0.00100, numerical limit = 2.00300\n",
            "h = 0.00010, numerical limit = 2.00030\n",
            "h = 0.00001, numerical limit = 2.00003\n"
          ]
        }
      ]
    }
  ]
}