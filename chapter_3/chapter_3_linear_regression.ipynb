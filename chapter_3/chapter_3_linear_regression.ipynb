{
  "nbformat": 4,
  "nbformat_minor": 0,
  "metadata": {
    "colab": {
      "provenance": [],
      "authorship_tag": "ABX9TyMlTFvN3Wl4xTu7BMfcjZau",
      "include_colab_link": true
    },
    "kernelspec": {
      "name": "python3",
      "display_name": "Python 3"
    },
    "language_info": {
      "name": "python"
    }
  },
  "cells": [
    {
      "cell_type": "markdown",
      "metadata": {
        "id": "view-in-github",
        "colab_type": "text"
      },
      "source": [
        "<a href=\"https://colab.research.google.com/github/yashveersinghsohi/Dive_into_Deep_Learning_Practice/blob/chapter_3/chapter_3/chapter_3_linear_regression.ipynb\" target=\"_parent\"><img src=\"https://colab.research.google.com/assets/colab-badge.svg\" alt=\"Open In Colab\"/></a>"
      ]
    },
    {
      "cell_type": "markdown",
      "source": [
        "# Linear Regression Using Sklearn"
      ],
      "metadata": {
        "id": "6KtMzDUPhI0l"
      }
    },
    {
      "cell_type": "markdown",
      "source": [
        "## Imports"
      ],
      "metadata": {
        "id": "47vkfItphAaD"
      }
    },
    {
      "cell_type": "code",
      "execution_count": 3,
      "metadata": {
        "id": "1ulKwd-_g7Sy"
      },
      "outputs": [],
      "source": [
        "from sklearn.datasets import fetch_california_housing\n",
        "from sklearn.linear_model import LinearRegression, Lasso, Ridge\n",
        "from sklearn.model_selection import train_test_split\n",
        "from sklearn.metrics import mean_squared_error\n",
        "import pandas as pd\n",
        "import numpy as np"
      ]
    },
    {
      "cell_type": "markdown",
      "source": [
        "## Data"
      ],
      "metadata": {
        "id": "lzqGX0S0hBbM"
      }
    },
    {
      "cell_type": "code",
      "source": [
        "dataset = fetch_california_housing()"
      ],
      "metadata": {
        "id": "4i4sIApYhBzj"
      },
      "execution_count": 4,
      "outputs": []
    },
    {
      "cell_type": "code",
      "source": [
        "X, y = dataset['data'], dataset['target']\n",
        "features_df = pd.DataFrame(data=X, columns=dataset['feature_names'])\n",
        "targets_df = pd.DataFrame(data=y, columns=dataset['target_names'])\n",
        "X_train, X_val, y_train, y_val = train_test_split(X, y, random_state=42, test_size=0.2)"
      ],
      "metadata": {
        "id": "ZLO3ibVaipyg"
      },
      "execution_count": 5,
      "outputs": []
    },
    {
      "cell_type": "markdown",
      "source": [
        "## Getting Model Parameters"
      ],
      "metadata": {
        "id": "Wrj_yUHLhCMP"
      }
    },
    {
      "cell_type": "code",
      "source": [
        "lin_reg_sklearn = LinearRegression()\n",
        "lin_reg_sklearn.fit(X_train, y_train)"
      ],
      "metadata": {
        "colab": {
          "base_uri": "https://localhost:8080/",
          "height": 75
        },
        "id": "b4trEPKyhHfT",
        "outputId": "82ba274b-1737-4f58-937d-1f7171f7e927"
      },
      "execution_count": 4,
      "outputs": [
        {
          "output_type": "execute_result",
          "data": {
            "text/plain": [
              "LinearRegression()"
            ],
            "text/html": [
              "<style>#sk-container-id-1 {color: black;background-color: white;}#sk-container-id-1 pre{padding: 0;}#sk-container-id-1 div.sk-toggleable {background-color: white;}#sk-container-id-1 label.sk-toggleable__label {cursor: pointer;display: block;width: 100%;margin-bottom: 0;padding: 0.3em;box-sizing: border-box;text-align: center;}#sk-container-id-1 label.sk-toggleable__label-arrow:before {content: \"▸\";float: left;margin-right: 0.25em;color: #696969;}#sk-container-id-1 label.sk-toggleable__label-arrow:hover:before {color: black;}#sk-container-id-1 div.sk-estimator:hover label.sk-toggleable__label-arrow:before {color: black;}#sk-container-id-1 div.sk-toggleable__content {max-height: 0;max-width: 0;overflow: hidden;text-align: left;background-color: #f0f8ff;}#sk-container-id-1 div.sk-toggleable__content pre {margin: 0.2em;color: black;border-radius: 0.25em;background-color: #f0f8ff;}#sk-container-id-1 input.sk-toggleable__control:checked~div.sk-toggleable__content {max-height: 200px;max-width: 100%;overflow: auto;}#sk-container-id-1 input.sk-toggleable__control:checked~label.sk-toggleable__label-arrow:before {content: \"▾\";}#sk-container-id-1 div.sk-estimator input.sk-toggleable__control:checked~label.sk-toggleable__label {background-color: #d4ebff;}#sk-container-id-1 div.sk-label input.sk-toggleable__control:checked~label.sk-toggleable__label {background-color: #d4ebff;}#sk-container-id-1 input.sk-hidden--visually {border: 0;clip: rect(1px 1px 1px 1px);clip: rect(1px, 1px, 1px, 1px);height: 1px;margin: -1px;overflow: hidden;padding: 0;position: absolute;width: 1px;}#sk-container-id-1 div.sk-estimator {font-family: monospace;background-color: #f0f8ff;border: 1px dotted black;border-radius: 0.25em;box-sizing: border-box;margin-bottom: 0.5em;}#sk-container-id-1 div.sk-estimator:hover {background-color: #d4ebff;}#sk-container-id-1 div.sk-parallel-item::after {content: \"\";width: 100%;border-bottom: 1px solid gray;flex-grow: 1;}#sk-container-id-1 div.sk-label:hover label.sk-toggleable__label {background-color: #d4ebff;}#sk-container-id-1 div.sk-serial::before {content: \"\";position: absolute;border-left: 1px solid gray;box-sizing: border-box;top: 0;bottom: 0;left: 50%;z-index: 0;}#sk-container-id-1 div.sk-serial {display: flex;flex-direction: column;align-items: center;background-color: white;padding-right: 0.2em;padding-left: 0.2em;position: relative;}#sk-container-id-1 div.sk-item {position: relative;z-index: 1;}#sk-container-id-1 div.sk-parallel {display: flex;align-items: stretch;justify-content: center;background-color: white;position: relative;}#sk-container-id-1 div.sk-item::before, #sk-container-id-1 div.sk-parallel-item::before {content: \"\";position: absolute;border-left: 1px solid gray;box-sizing: border-box;top: 0;bottom: 0;left: 50%;z-index: -1;}#sk-container-id-1 div.sk-parallel-item {display: flex;flex-direction: column;z-index: 1;position: relative;background-color: white;}#sk-container-id-1 div.sk-parallel-item:first-child::after {align-self: flex-end;width: 50%;}#sk-container-id-1 div.sk-parallel-item:last-child::after {align-self: flex-start;width: 50%;}#sk-container-id-1 div.sk-parallel-item:only-child::after {width: 0;}#sk-container-id-1 div.sk-dashed-wrapped {border: 1px dashed gray;margin: 0 0.4em 0.5em 0.4em;box-sizing: border-box;padding-bottom: 0.4em;background-color: white;}#sk-container-id-1 div.sk-label label {font-family: monospace;font-weight: bold;display: inline-block;line-height: 1.2em;}#sk-container-id-1 div.sk-label-container {text-align: center;}#sk-container-id-1 div.sk-container {/* jupyter's `normalize.less` sets `[hidden] { display: none; }` but bootstrap.min.css set `[hidden] { display: none !important; }` so we also need the `!important` here to be able to override the default hidden behavior on the sphinx rendered scikit-learn.org. See: https://github.com/scikit-learn/scikit-learn/issues/21755 */display: inline-block !important;position: relative;}#sk-container-id-1 div.sk-text-repr-fallback {display: none;}</style><div id=\"sk-container-id-1\" class=\"sk-top-container\"><div class=\"sk-text-repr-fallback\"><pre>LinearRegression()</pre><b>In a Jupyter environment, please rerun this cell to show the HTML representation or trust the notebook. <br />On GitHub, the HTML representation is unable to render, please try loading this page with nbviewer.org.</b></div><div class=\"sk-container\" hidden><div class=\"sk-item\"><div class=\"sk-estimator sk-toggleable\"><input class=\"sk-toggleable__control sk-hidden--visually\" id=\"sk-estimator-id-1\" type=\"checkbox\" checked><label for=\"sk-estimator-id-1\" class=\"sk-toggleable__label sk-toggleable__label-arrow\">LinearRegression</label><div class=\"sk-toggleable__content\"><pre>LinearRegression()</pre></div></div></div></div></div>"
            ]
          },
          "metadata": {},
          "execution_count": 4
        }
      ]
    },
    {
      "cell_type": "code",
      "source": [
        "lin_reg_sklearn.coef_.round(4), lin_reg_sklearn.intercept_.round(4)"
      ],
      "metadata": {
        "colab": {
          "base_uri": "https://localhost:8080/"
        },
        "id": "SoGw9xkYjbBb",
        "outputId": "f06c59a7-3b9b-437b-e1e7-5ce004345703"
      },
      "execution_count": 5,
      "outputs": [
        {
          "output_type": "execute_result",
          "data": {
            "text/plain": [
              "(array([ 0.4487,  0.0097, -0.1233,  0.7831, -0.    , -0.0035, -0.4198,\n",
              "        -0.4337]),\n",
              " -37.0233)"
            ]
          },
          "metadata": {},
          "execution_count": 5
        }
      ]
    },
    {
      "cell_type": "markdown",
      "source": [
        "## Model Performance"
      ],
      "metadata": {
        "id": "WPH18t3CiA1q"
      }
    },
    {
      "cell_type": "markdown",
      "source": [
        "**Train**"
      ],
      "metadata": {
        "id": "pzpxr_zXiYI9"
      }
    },
    {
      "cell_type": "code",
      "source": [
        "mse = mean_squared_error(y_true=y_train, y_pred=lin_reg_sklearn.predict(X_train)).round(4)\n",
        "rmse = np.sqrt(mse).round(4)\n",
        "mse, rmse"
      ],
      "metadata": {
        "id": "xNDBRMZciUtl",
        "outputId": "4a8cad51-535f-4a1c-b1dc-dfaa328265c2",
        "colab": {
          "base_uri": "https://localhost:8080/"
        }
      },
      "execution_count": 6,
      "outputs": [
        {
          "output_type": "execute_result",
          "data": {
            "text/plain": [
              "(0.5179, 0.7197)"
            ]
          },
          "metadata": {},
          "execution_count": 6
        }
      ]
    },
    {
      "cell_type": "markdown",
      "source": [
        "**Val**"
      ],
      "metadata": {
        "id": "CQpqlveWiZWz"
      }
    },
    {
      "cell_type": "code",
      "source": [
        "mse = mean_squared_error(y_true=y_val, y_pred=lin_reg_sklearn.predict(X_val)).round(4)\n",
        "rmse = np.sqrt(mse).round(4)\n",
        "mse, rmse"
      ],
      "metadata": {
        "id": "h2SougS6h4s_",
        "outputId": "5a64bacd-a80e-4a59-92d3-fb27f1f19310",
        "colab": {
          "base_uri": "https://localhost:8080/"
        }
      },
      "execution_count": 7,
      "outputs": [
        {
          "output_type": "execute_result",
          "data": {
            "text/plain": [
              "(0.5559, 0.7456)"
            ]
          },
          "metadata": {},
          "execution_count": 7
        }
      ]
    },
    {
      "cell_type": "markdown",
      "source": [
        "# Concise Neural Network Style Implementation"
      ],
      "metadata": {
        "id": "wkHFwkgJc913"
      }
    },
    {
      "cell_type": "markdown",
      "source": [
        "## Imports"
      ],
      "metadata": {
        "id": "NZu0XrSddRvZ"
      }
    },
    {
      "cell_type": "code",
      "source": [
        "import pandas as pd\n",
        "import numpy as np\n",
        "import matplotlib.pyplot as plt\n",
        "import seaborn as sns\n",
        "import torch\n",
        "import torch.nn as nn\n",
        "from torch.optim import SGD\n",
        "from torch.utils.data import DataLoader, TensorDataset, Dataset"
      ],
      "metadata": {
        "id": "1wHn7-Onjc6E"
      },
      "execution_count": 1,
      "outputs": []
    },
    {
      "cell_type": "markdown",
      "source": [
        "## Preparing Dataset"
      ],
      "metadata": {
        "id": "3mvc1R2WfRGE"
      }
    },
    {
      "cell_type": "code",
      "source": [
        "dataset = fetch_california_housing()\n",
        "X, y = dataset['data'], dataset['target']\n",
        "features_df = pd.DataFrame(data=X, columns=dataset['feature_names'])\n",
        "targets_df = pd.DataFrame(data=y, columns=dataset['target_names'])\n",
        "X_train, X_val, y_train, y_val = train_test_split(X, y, random_state=42, test_size=0.2)"
      ],
      "metadata": {
        "id": "oG5Ir0fXhmfL"
      },
      "execution_count": 6,
      "outputs": []
    },
    {
      "cell_type": "code",
      "source": [
        "class MyDataset(Dataset):\n",
        "  def __init__(self, data, targets):\n",
        "    self.data = data\n",
        "    self.targets = targets\n",
        "\n",
        "  def __len__(self):\n",
        "    return len(self.targets)\n",
        "\n",
        "  def __getitem__(self, idx):\n",
        "    X = self.data[idx]\n",
        "    y = self.targets[idx]\n",
        "    return X, y"
      ],
      "metadata": {
        "id": "SJo1z_NXjNCQ"
      },
      "execution_count": 7,
      "outputs": []
    },
    {
      "cell_type": "code",
      "source": [
        "train_dataset = MyDataset(data=X_train, targets=y_train)\n",
        "val_dataset = MyDataset(data=X_val, targets=y_val)"
      ],
      "metadata": {
        "id": "OO9hKzO0jGce"
      },
      "execution_count": 8,
      "outputs": []
    },
    {
      "cell_type": "code",
      "source": [
        "train_dataloader = DataLoader(dataset=train_dataset, batch_size=64, shuffle=True)\n",
        "val_dataloader = DataLoader(dataset=val_dataset, batch_size=64, shuffle=True)"
      ],
      "metadata": {
        "id": "Kda7qQntieSg"
      },
      "execution_count": 9,
      "outputs": []
    },
    {
      "cell_type": "markdown",
      "source": [
        "## Preparing the Model"
      ],
      "metadata": {
        "id": "2E546v3mml56"
      }
    },
    {
      "cell_type": "code",
      "source": [
        "class LinearRegressionNN(nn.Module):\n",
        "  def __init__(self):\n",
        "    super().__init__()\n",
        "    self.net = nn.Linear(in_features=8, out_features=1)\n",
        "    self.net.weight.data.normal_(mean=0, std=0.01)\n",
        "    self.net.weight.data = self.net.weight.data.to(torch.float64)\n",
        "    self.net.bias.data.fill_(value=0)\n",
        "    self.net.bias.data = self.net.bias.data.to(torch.float64)\n",
        "\n",
        "  def forward(self, X):\n",
        "    X = X.to(torch.float64)\n",
        "    return self.net(X).reshape(-1,)\n",
        "\n",
        "  def get_w_b(self):\n",
        "    return (self.net.weight.data, self.net.bias.data)"
      ],
      "metadata": {
        "id": "fqcLsCzfmeNx"
      },
      "execution_count": 112,
      "outputs": []
    },
    {
      "cell_type": "code",
      "source": [
        "lin_reg_nn = LinearRegressionNN()"
      ],
      "metadata": {
        "id": "NkEh8Au_x0iu"
      },
      "execution_count": 143,
      "outputs": []
    },
    {
      "cell_type": "markdown",
      "source": [
        "## Loss Function and Optimizers"
      ],
      "metadata": {
        "id": "xKXkdpYvyeVZ"
      }
    },
    {
      "cell_type": "code",
      "source": [
        "loss_fn = nn.MSELoss()\n",
        "optimizer = SGD"
      ],
      "metadata": {
        "id": "vVqVInNzyghc"
      },
      "execution_count": 169,
      "outputs": []
    },
    {
      "cell_type": "markdown",
      "source": [
        "## Training"
      ],
      "metadata": {
        "id": "fdDkmozTx9Ki"
      }
    },
    {
      "cell_type": "code",
      "source": [
        "class Trainer():\n",
        "  def __init__(\n",
        "    self, model, optimizer, loss_fn,\n",
        "    train_dataloader, val_dataloader,\n",
        "    max_epochs=50, tol=10\n",
        "  ):\n",
        "    self.model = model\n",
        "    self.optimizer = optimizer(params=self.model.parameters(), lr=0.0003)\n",
        "    # self.optimizer = SGD(params=self.model.parameters(), lr=0.0003)\n",
        "    self.loss_fn = loss_fn\n",
        "    self.train_dataloader = train_dataloader\n",
        "    self.val_dataloader = val_dataloader\n",
        "    self.max_epochs = max_epochs\n",
        "    self.train_losses = []\n",
        "    self.val_losses = []\n",
        "    self.best_val_loss = float('inf')\n",
        "    self.best_val_loss_epoch = -1\n",
        "    self.tol = tol\n",
        "    self.max_tol = tol\n",
        "\n",
        "  def fit(self):\n",
        "    for epoch_idx in range(self.max_epochs):\n",
        "      if self.tol == 0:\n",
        "        print('Using Early Stopping')\n",
        "        break\n",
        "      self.train_one_epoch()\n",
        "      self.early_stopping(epoch_idx=epoch_idx)\n",
        "      print(f'Epoch {epoch_idx}\\t Train Loss: {self.train_losses[-1]}\\tVal Loss: {self.val_losses[-1]}')\n",
        "    print(f'Best Model Found at Epoch {self.best_val_loss_epoch}')\n",
        "\n",
        "  def train_one_epoch(self):\n",
        "    training_loss = 0\n",
        "    for features, labels in self.train_dataloader:\n",
        "      self.optimizer.zero_grad()\n",
        "      predictions = self.model(features)\n",
        "      loss = self.loss_fn(predictions, labels)\n",
        "      training_loss += loss.item()\n",
        "      loss.backward()\n",
        "      nn.utils.clip_grad_norm_(self.model.parameters(), max_norm=1.0, norm_type=2)\n",
        "      self.optimizer.step()\n",
        "    self.train_losses.append(training_loss/len(self.train_dataloader))\n",
        "\n",
        "    # model.eval() # REF: https://pytorch.org/tutorials/beginner/introyt/trainingyt.html\n",
        "\n",
        "    val_loss = 0\n",
        "    with torch.no_grad():\n",
        "      for features, labels in self.val_dataloader:\n",
        "        predictions = self.model(features)\n",
        "        loss = self.loss_fn(predictions, labels)\n",
        "        val_loss += loss.item()\n",
        "      self.val_losses.append(val_loss/len(self.val_dataloader))\n",
        "\n",
        "  def early_stopping(self, epoch_idx):\n",
        "    current_val_loss = self.val_losses[-1]\n",
        "    if current_val_loss < self.best_val_loss:\n",
        "      self.best_val_loss = current_val_loss\n",
        "      self.best_val_loss_epoch = epoch_idx\n",
        "      model_path = f'best_model'\n",
        "      torch.save(self.model.state_dict(), model_path)\n",
        "      self.tol = self.max_tol\n",
        "    else:\n",
        "      self.tol -= 1"
      ],
      "metadata": {
        "id": "42SYtfemx6eG"
      },
      "execution_count": 170,
      "outputs": []
    },
    {
      "cell_type": "code",
      "source": [
        "trainer = Trainer(\n",
        "  model=lin_reg_nn, optimizer=optimizer, loss_fn=loss_fn,\n",
        "  train_dataloader=train_dataloader, val_dataloader=val_dataloader,\n",
        "  max_epochs=100, tol=1000\n",
        ")"
      ],
      "metadata": {
        "id": "tyh8MO8VwtsK"
      },
      "execution_count": 171,
      "outputs": []
    },
    {
      "cell_type": "code",
      "source": [
        "trainer.fit()"
      ],
      "metadata": {
        "id": "MQFeedkqxCzQ",
        "outputId": "dd6bd56e-e0ec-4c6a-88b0-40adee6aa618",
        "colab": {
          "base_uri": "https://localhost:8080/"
        }
      },
      "execution_count": 172,
      "outputs": [
        {
          "output_type": "stream",
          "name": "stdout",
          "text": [
            "Epoch 0\t Train Loss: 1.1770425325911185\tVal Loss: 1.1524611138122132\n",
            "Epoch 1\t Train Loss: 1.1607955287145848\tVal Loss: 1.1863416892185694\n",
            "Epoch 2\t Train Loss: 1.1508501168747136\tVal Loss: 1.1582486815914876\n",
            "Epoch 3\t Train Loss: 1.168050388521539\tVal Loss: 1.0740530120924905\n",
            "Epoch 4\t Train Loss: 1.1568274712992708\tVal Loss: 1.1387437884217508\n",
            "Epoch 5\t Train Loss: 1.1709692877137812\tVal Loss: 1.1177329977929096\n",
            "Epoch 6\t Train Loss: 1.15567146169512\tVal Loss: 1.1230374688882208\n",
            "Epoch 7\t Train Loss: 1.1452917938398623\tVal Loss: 1.2424014996616604\n",
            "Epoch 8\t Train Loss: 1.162650264016763\tVal Loss: 1.194775657321452\n",
            "Epoch 9\t Train Loss: 1.1645286523846958\tVal Loss: 1.1388561173778895\n",
            "Epoch 10\t Train Loss: 1.1460864990226463\tVal Loss: 1.118625094635575\n",
            "Epoch 11\t Train Loss: 1.1454839380064625\tVal Loss: 1.4918924578760329\n",
            "Epoch 12\t Train Loss: 1.153675434435548\tVal Loss: 1.124690574804665\n",
            "Epoch 13\t Train Loss: 1.1455051888223875\tVal Loss: 1.248177014793132\n",
            "Epoch 14\t Train Loss: 1.141520861601043\tVal Loss: 1.1038600676209755\n",
            "Epoch 15\t Train Loss: 1.138556032401883\tVal Loss: 1.1064026062277972\n",
            "Epoch 16\t Train Loss: 1.1307617646858417\tVal Loss: 1.0539775100664959\n",
            "Epoch 17\t Train Loss: 1.1418036938735328\tVal Loss: 1.1433134154077929\n",
            "Epoch 18\t Train Loss: 1.157147769243411\tVal Loss: 1.103716020734659\n",
            "Epoch 19\t Train Loss: 1.148449269247869\tVal Loss: 1.0504790911078623\n",
            "Epoch 20\t Train Loss: 1.146449072449527\tVal Loss: 1.2510797438914256\n",
            "Epoch 21\t Train Loss: 1.1355307772119634\tVal Loss: 1.1576689365549515\n",
            "Epoch 22\t Train Loss: 1.1593381116982966\tVal Loss: 1.138955120129914\n",
            "Epoch 23\t Train Loss: 1.1433343368046691\tVal Loss: 1.082808135092802\n",
            "Epoch 24\t Train Loss: 1.1211545151265703\tVal Loss: 1.091312429594883\n",
            "Epoch 25\t Train Loss: 1.1252478019179644\tVal Loss: 1.1110515230651072\n",
            "Epoch 26\t Train Loss: 1.1481160022862225\tVal Loss: 1.1241476321642534\n",
            "Epoch 27\t Train Loss: 1.1266973809850735\tVal Loss: 1.0783113689814\n",
            "Epoch 28\t Train Loss: 1.1208919312689016\tVal Loss: 1.0930826001211242\n",
            "Epoch 29\t Train Loss: 1.1223519490542728\tVal Loss: 1.1208933975613329\n",
            "Epoch 30\t Train Loss: 1.128303847388469\tVal Loss: 1.0353315154183584\n",
            "Epoch 31\t Train Loss: 1.149967914171036\tVal Loss: 1.0208705452947133\n",
            "Epoch 32\t Train Loss: 1.134179976880656\tVal Loss: 1.0879234830803584\n",
            "Epoch 33\t Train Loss: 1.141891544871953\tVal Loss: 1.019036061647404\n",
            "Epoch 34\t Train Loss: 1.1095820655894097\tVal Loss: 1.0836790410842958\n",
            "Epoch 35\t Train Loss: 1.1283503642590775\tVal Loss: 1.1111352914830142\n",
            "Epoch 36\t Train Loss: 1.1108633815695013\tVal Loss: 1.0824152051729174\n",
            "Epoch 37\t Train Loss: 1.1194172775998041\tVal Loss: 1.0259320158786507\n",
            "Epoch 38\t Train Loss: 1.1271927724716928\tVal Loss: 1.1619110195338906\n",
            "Epoch 39\t Train Loss: 1.1126004167894161\tVal Loss: 1.105505684101995\n",
            "Epoch 40\t Train Loss: 1.115986526318702\tVal Loss: 1.154503057260028\n",
            "Epoch 41\t Train Loss: 1.1108733395522596\tVal Loss: 1.0100868299999364\n",
            "Epoch 42\t Train Loss: 1.1097188375654916\tVal Loss: 1.0709649120954883\n",
            "Epoch 43\t Train Loss: 1.0987157584778968\tVal Loss: 1.0697655713120233\n",
            "Epoch 44\t Train Loss: 1.1050001600621555\tVal Loss: 1.0714587285220412\n",
            "Epoch 45\t Train Loss: 1.1039297259396081\tVal Loss: 1.115744113345383\n",
            "Epoch 46\t Train Loss: 1.1108991124275522\tVal Loss: 1.076110079924379\n",
            "Epoch 47\t Train Loss: 1.109525990505263\tVal Loss: 1.1023095810631887\n",
            "Epoch 48\t Train Loss: 1.1062560934892103\tVal Loss: 1.0579539879533932\n",
            "Epoch 49\t Train Loss: 1.1058723531456982\tVal Loss: 1.1078121405931292\n",
            "Epoch 50\t Train Loss: 1.112657806947154\tVal Loss: 1.0466095547232654\n",
            "Epoch 51\t Train Loss: 1.1041008765982108\tVal Loss: 1.1369406591202984\n",
            "Epoch 52\t Train Loss: 1.1292817859323698\tVal Loss: 1.1622952305458434\n",
            "Epoch 53\t Train Loss: 1.1124797352065874\tVal Loss: 1.015098174253224\n",
            "Epoch 54\t Train Loss: 1.1002117870767516\tVal Loss: 1.0889998510623018\n",
            "Epoch 55\t Train Loss: 1.1202320404152322\tVal Loss: 1.0401512897277523\n",
            "Epoch 56\t Train Loss: 1.0977312716108194\tVal Loss: 1.0502233354363786\n",
            "Epoch 57\t Train Loss: 1.0977277044388964\tVal Loss: 1.1288257313810852\n",
            "Epoch 58\t Train Loss: 1.123901211460999\tVal Loss: 1.0352345298501184\n",
            "Epoch 59\t Train Loss: 1.0897482367833229\tVal Loss: 1.0864911109146167\n",
            "Epoch 60\t Train Loss: 1.0813941628591244\tVal Loss: 1.079444124743905\n",
            "Epoch 61\t Train Loss: 1.1090538890269939\tVal Loss: 1.1210863317487934\n",
            "Epoch 62\t Train Loss: 1.1174439552600757\tVal Loss: 1.5397623231373643\n",
            "Epoch 63\t Train Loss: 1.0924231742995503\tVal Loss: 1.084567282759333\n",
            "Epoch 64\t Train Loss: 1.0822996089805867\tVal Loss: 1.0582395201203214\n",
            "Epoch 65\t Train Loss: 1.0889516343570422\tVal Loss: 1.002026734787434\n",
            "Epoch 66\t Train Loss: 1.1087811164539234\tVal Loss: 1.0294475941440984\n",
            "Epoch 67\t Train Loss: 1.1070428201533393\tVal Loss: 1.222354579067368\n",
            "Epoch 68\t Train Loss: 1.0816336324582092\tVal Loss: 1.0267641417728361\n",
            "Epoch 69\t Train Loss: 1.085923337046205\tVal Loss: 1.0260639598433035\n",
            "Epoch 70\t Train Loss: 1.0827749049609636\tVal Loss: 1.0357112502830341\n",
            "Epoch 71\t Train Loss: 1.0721919393227581\tVal Loss: 1.1967802162226588\n",
            "Epoch 72\t Train Loss: 1.0979190588152639\tVal Loss: 1.076460940345734\n",
            "Epoch 73\t Train Loss: 1.0773947222044034\tVal Loss: 1.0143099709359227\n",
            "Epoch 74\t Train Loss: 1.085805166482587\tVal Loss: 1.0349257771337124\n",
            "Epoch 75\t Train Loss: 1.0815046151881877\tVal Loss: 1.0560439131007253\n",
            "Epoch 76\t Train Loss: 1.0796724608843913\tVal Loss: 1.0350158980079187\n",
            "Epoch 77\t Train Loss: 1.0808865440837678\tVal Loss: 1.0501765966488459\n",
            "Epoch 78\t Train Loss: 1.0792342646842652\tVal Loss: 1.0725281088412422\n",
            "Epoch 79\t Train Loss: 1.0819797672909224\tVal Loss: 1.0639635392733442\n",
            "Epoch 80\t Train Loss: 1.0694362092695857\tVal Loss: 1.038174699242622\n",
            "Epoch 81\t Train Loss: 1.0677823178334394\tVal Loss: 1.0643977551108017\n",
            "Epoch 82\t Train Loss: 1.0611001109158704\tVal Loss: 1.311826666369891\n",
            "Epoch 83\t Train Loss: 1.0797113979622934\tVal Loss: 1.3814952926716488\n",
            "Epoch 84\t Train Loss: 1.095459628979052\tVal Loss: 0.9983912557422039\n",
            "Epoch 85\t Train Loss: 1.09539314453421\tVal Loss: 1.0537978533936017\n",
            "Epoch 86\t Train Loss: 1.0783937251555304\tVal Loss: 1.0082005807984826\n",
            "Epoch 87\t Train Loss: 1.0723345000535374\tVal Loss: 1.001617055526129\n",
            "Epoch 88\t Train Loss: 1.0646707861400135\tVal Loss: 1.0717695992634435\n",
            "Epoch 89\t Train Loss: 1.0680835998958125\tVal Loss: 0.9692831660419976\n",
            "Epoch 90\t Train Loss: 1.0944925239321481\tVal Loss: 1.0676828592133032\n",
            "Epoch 91\t Train Loss: 1.075626327141525\tVal Loss: 1.0229500217050695\n",
            "Epoch 92\t Train Loss: 1.065724688455374\tVal Loss: 1.0274906489256603\n",
            "Epoch 93\t Train Loss: 1.0738580795434172\tVal Loss: 1.0151899544011866\n",
            "Epoch 94\t Train Loss: 1.079817372018004\tVal Loss: 1.0383696590801406\n",
            "Epoch 95\t Train Loss: 1.0755935035021098\tVal Loss: 1.2351830914342277\n",
            "Epoch 96\t Train Loss: 1.0796909088422373\tVal Loss: 1.0150679245037277\n",
            "Epoch 97\t Train Loss: 1.0726079083568463\tVal Loss: 1.079927579557239\n",
            "Epoch 98\t Train Loss: 1.0584686247279789\tVal Loss: 1.0298491186216094\n",
            "Epoch 99\t Train Loss: 1.0515110730536013\tVal Loss: 1.0694670967332969\n",
            "Best Model Found at Epoch 89\n"
          ]
        }
      ]
    },
    {
      "cell_type": "code",
      "source": [
        "fig, ax = plt.subplots(figsize=(8, 5))\n",
        "ax.plot(trainer.train_losses, color='blue', label='Training Losses')\n",
        "ax.plot(trainer.val_losses, color='red', label='Validation Losses')\n",
        "ax.legend()\n",
        "ax.set(xlabel='Epochs', ylabel='MSE Loss', title='Learning Curves')\n",
        "plt.show()"
      ],
      "metadata": {
        "id": "Ss_2XAqu1XU6",
        "outputId": "383d2aaa-9f7b-4a28-a8af-4fe9e4010892",
        "colab": {
          "base_uri": "https://localhost:8080/",
          "height": 487
        }
      },
      "execution_count": 173,
      "outputs": [
        {
          "output_type": "display_data",
          "data": {
            "text/plain": [
              "<Figure size 800x500 with 1 Axes>"
            ],
            "image/png": "[encoded data removed]"
          },
          "metadata": {}
        }
      ]
    },
    {
      "cell_type": "code",
      "source": [
        "lin_reg_nn_trained = trainer.model"
      ],
      "metadata": {
        "id": "4O6y9_ImxKXY"
      },
      "execution_count": 174,
      "outputs": []
    },
    {
      "cell_type": "code",
      "source": [
        "w, b = lin_reg_nn_trained.get_w_b()\n",
        "w, b"
      ],
      "metadata": {
        "id": "kS35dHCVxS6b",
        "outputId": "2b9a0ee2-60ca-4bf6-afa6-62ee8b6ed403",
        "colab": {
          "base_uri": "https://localhost:8080/"
        }
      },
      "execution_count": 175,
      "outputs": [
        {
          "output_type": "execute_result",
          "data": {
            "text/plain": [
              "(tensor([[ 0.1182,  0.0129,  0.0287, -0.0029, -0.0002, -0.0037, -0.0286, -0.0173]],\n",
              "        dtype=torch.float64),\n",
              " tensor([0.0001], dtype=torch.float64))"
            ]
          },
          "metadata": {},
          "execution_count": 175
        }
      ]
    }
  ]
}